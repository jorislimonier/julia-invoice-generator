{
 "cells": [
  {
   "cell_type": "code",
   "execution_count": 45,
   "metadata": {},
   "outputs": [
    {
     "name": "stderr",
     "output_type": "stream",
     "text": [
      "WARNING: replacing module app.\n"
     ]
    },
    {
     "data": {
      "text/plain": [
       "1-element Vector{Dict{String, Any}}:\n",
       " Dict(\"name\" => \"Shop automation service\", \"unit_cost\" => 5000, \"quantity\" => 1)"
      ]
     },
     "metadata": {},
     "output_type": "display_data"
    }
   ],
   "source": [
    "include(\"app.jl\")\n",
    "\n",
    "inv = app.Invoice()\n",
    "app.eval_string(inv.items)"
   ]
  },
  {
   "cell_type": "code",
   "execution_count": 46,
   "metadata": {},
   "outputs": [
    {
     "name": "stdout",
     "output_type": "stream",
     "text": [
      "Exception\n",
      "MethodError(write, (HTTP.Streams.Stream{HTTP.Messages.Response, HTTP.ConnectionPool.Transaction{MbedTLS.SSLContext}}(HTTP.Messages.Response:\n",
      "\"\"\"\n",
      "HTTP/1.1 0 Unknown Code\r\n",
      "\r\n",
      "\"\"\", T0  💀    1↑     1↓    0s invoice-generator.com:443:51058 ≣16, true, false, true, 0, 0), \"from\" => \"joris\"), 0xffffffffffffffff)\n"
     ]
    }
   ],
   "source": [
    "app.connect_to_api_and_save_invoice_pdf()"
   ]
  }
 ],
 "metadata": {
  "kernelspec": {
   "display_name": "Julia 1.7.1",
   "language": "julia",
   "name": "julia-1.7"
  },
  "language_info": {
   "file_extension": ".jl",
   "mimetype": "application/julia",
   "name": "julia",
   "version": "1.7.1"
  },
  "orig_nbformat": 4,
  "vscode": {
   "interpreter": {
    "hash": "36cf16204b8548560b1c020c4e8fb5b57f0e4c58016f52f2d4be01e192833930"
   }
  }
 },
 "nbformat": 4,
 "nbformat_minor": 2
}
