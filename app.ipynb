{
 "cells": [
  {
   "cell_type": "code",
   "execution_count": 99,
   "metadata": {},
   "outputs": [
    {
     "name": "stderr",
     "output_type": "stream",
     "text": [
      "WARNING: replacing module api.\n",
      "WARNING: replacing module data.\n"
     ]
    },
    {
     "data": {
      "text/plain": [
       "\"Joris LIMONIER\""
      ]
     },
     "metadata": {},
     "output_type": "display_data"
    }
   ],
   "source": [
    "include(\"src/api.jl\")   \n",
    "include(\"src/data.jl\")   \n",
    "\n",
    "inv = api.Invoice()\n",
    "\n",
    "invoice_info = Dict{Any, Any}()\n",
    "\n",
    "invoice_info[\"from\"] = \"Joris LIMONIER\"\n",
    "\n"
   ]
  },
  {
   "cell_type": "code",
   "execution_count": 100,
   "metadata": {},
   "outputs": [
    {
     "data": {
      "text/html": [
       "<div class=\"data-frame\"><p>1 rows × 7 columns (omitted printing of 2 columns)</p><table class=\"data-frame\"><thead><tr><th></th><th>customer_id</th><th>name</th><th>address</th><th>address_complement</th><th>post_code</th></tr><tr><th></th><th title=\"Int64\">Int64</th><th title=\"InlineStrings.String31\">String31</th><th title=\"InlineStrings.String15\">String15</th><th title=\"InlineStrings.String15\">String15</th><th title=\"InlineStrings.String15\">String15</th></tr></thead><tbody><tr><th>1</th><td>1</td><td>MANNING PUBLICATIONS</td><td>20 Baldwin Rd</td><td>P O Box 761</td><td>NY 11964</td></tr></tbody></table></div>"
      ],
      "text/latex": [
       "\\begin{tabular}{r|cccccc}\n",
       "\t& customer\\_id & name & address & address\\_complement & post\\_code & \\\\\n",
       "\t\\hline\n",
       "\t& Int64 & String31 & String15 & String15 & String15 & \\\\\n",
       "\t\\hline\n",
       "\t1 & 1 & MANNING PUBLICATIONS & 20 Baldwin Rd & P O Box 761 & NY 11964 & $\\dots$ \\\\\n",
       "\\end{tabular}\n"
      ],
      "text/plain": [
       "\u001b[1m1×7 DataFrame\u001b[0m\n",
       "\u001b[1m Row \u001b[0m│\u001b[1m customer_id \u001b[0m\u001b[1m name                 \u001b[0m\u001b[1m address       \u001b[0m\u001b[1m address_complement \u001b[0m\u001b[1m p\u001b[0m ⋯\n",
       "\u001b[1m     \u001b[0m│\u001b[90m Int64       \u001b[0m\u001b[90m String31             \u001b[0m\u001b[90m String15      \u001b[0m\u001b[90m String15           \u001b[0m\u001b[90m S\u001b[0m ⋯\n",
       "─────┼──────────────────────────────────────────────────────────────────────────\n",
       "   1 │           1  MANNING PUBLICATIONS  20 Baldwin Rd  P O Box 761         N ⋯\n",
       "\u001b[36m                                                               3 columns omitted\u001b[0m"
      ]
     },
     "metadata": {},
     "output_type": "display_data"
    }
   ],
   "source": [
    "data.customers"
   ]
  },
  {
   "cell_type": "code",
   "execution_count": 101,
   "metadata": {},
   "outputs": [
    {
     "data": {
      "text/html": [
       "<div class=\"data-frame\"><p>4 rows × 4 columns</p><table class=\"data-frame\"><thead><tr><th></th><th>product_id</th><th>name</th><th>quantity</th><th>unit_cost</th></tr><tr><th></th><th title=\"Int64\">Int64</th><th title=\"InlineStrings.String31\">String31</th><th title=\"Int64\">Int64</th><th title=\"Float64\">Float64</th></tr></thead><tbody><tr><th>1</th><td>1</td><td>Mentoring hours February</td><td>6</td><td>45.0</td></tr><tr><th>2</th><td>2</td><td>Mentoring hours March</td><td>5</td><td>45.0</td></tr><tr><th>3</th><td>3</td><td>Mentoring hours April</td><td>1</td><td>45.0</td></tr><tr><th>4</th><td>4</td><td>Mentoring hours May</td><td>1</td><td>45.0</td></tr></tbody></table></div>"
      ],
      "text/latex": [
       "\\begin{tabular}{r|cccc}\n",
       "\t& product\\_id & name & quantity & unit\\_cost\\\\\n",
       "\t\\hline\n",
       "\t& Int64 & String31 & Int64 & Float64\\\\\n",
       "\t\\hline\n",
       "\t1 & 1 & Mentoring hours February & 6 & 45.0 \\\\\n",
       "\t2 & 2 & Mentoring hours March & 5 & 45.0 \\\\\n",
       "\t3 & 3 & Mentoring hours April & 1 & 45.0 \\\\\n",
       "\t4 & 4 & Mentoring hours May & 1 & 45.0 \\\\\n",
       "\\end{tabular}\n"
      ],
      "text/plain": [
       "\u001b[1m4×4 DataFrame\u001b[0m\n",
       "\u001b[1m Row \u001b[0m│\u001b[1m product_id \u001b[0m\u001b[1m name                     \u001b[0m\u001b[1m quantity \u001b[0m\u001b[1m unit_cost \u001b[0m\n",
       "\u001b[1m     \u001b[0m│\u001b[90m Int64      \u001b[0m\u001b[90m String31                 \u001b[0m\u001b[90m Int64    \u001b[0m\u001b[90m Float64   \u001b[0m\n",
       "─────┼───────────────────────────────────────────────────────────\n",
       "   1 │          1  Mentoring hours February         6       45.0\n",
       "   2 │          2  Mentoring hours March            5       45.0\n",
       "   3 │          3  Mentoring hours April            1       45.0\n",
       "   4 │          4  Mentoring hours May              1       45.0"
      ]
     },
     "metadata": {},
     "output_type": "display_data"
    }
   ],
   "source": [
    "data.products"
   ]
  },
  {
   "cell_type": "code",
   "execution_count": 137,
   "metadata": {},
   "outputs": [
    {
     "data": {
      "text/plain": [
       "1-element Vector{Dict{String, Any}}:\n",
       " Dict(\"name\" => \"Mentoring hours April\", \"unit_cost\" => 45.0, \"quantity\" => 1)"
      ]
     },
     "metadata": {},
     "output_type": "display_data"
    }
   ],
   "source": [
    "using JSON\n",
    "product_id = 3\n"
   ]
  },
  {
   "cell_type": "code",
   "execution_count": 152,
   "metadata": {},
   "outputs": [
    {
     "name": "stdout",
     "output_type": "stream",
     "text": [
      "[1, 2, 3]\n",
      "[4]\n"
     ]
    }
   ],
   "source": [
    "for order in eachrow(data.orders)\n",
    "    \n",
    "    # invoice_id\n",
    "    invoice_id = order[\"invoice_id\"]\n",
    "    invoice_info[\"number\"] = invoice_id\n",
    "\n",
    "    # date\n",
    "    date = order[\"date\"]\n",
    "    invoice_info[\"date\"] = date\n",
    "    \n",
    "    # to\n",
    "    customer_id = order[\"customer_id\"]\n",
    "    invoice_info[\"to\"] = string(customer_id)\n",
    "    \n",
    "    # currency\n",
    "    currency = order[\"currency\"]\n",
    "    invoice_info[\"currency\"] = currency\n",
    "    \n",
    "    # products_id stores a list\n",
    "    products_id = api.eval_string(String(order[\"products_id\"]))\n",
    "    \n",
    "    items = []\n",
    "    println(products_id)\n",
    "    for product_id in products_id\n",
    "        product = filter(row -> row[\"product_id\"] == product_id, data.products)[1, :]\n",
    "        name = product[\"name\"]\n",
    "        quantity = product[\"quantity\"]\n",
    "        unit_cost = product[\"unit_cost\"]\n",
    "        push!(items, Dict(\"name\" => name, \"quantity\" => quantity, \"unit_cost\" => unit_cost))\n",
    "    end\n",
    "    invoice_info[\"items\"] = items\n",
    "    invoice_info[\"notes\"] = \"Thank you for your order.\"\n",
    "\n",
    "    api.connect_to_api_and_save_invoice_pdf(invoice_info, invoice_id)\n",
    "\n",
    "end"
   ]
  },
  {
   "cell_type": "code",
   "execution_count": null,
   "metadata": {},
   "outputs": [],
   "source": []
  }
 ],
 "metadata": {
  "kernelspec": {
   "display_name": "Julia 1.7.1",
   "language": "julia",
   "name": "julia-1.7"
  },
  "language_info": {
   "file_extension": ".jl",
   "mimetype": "application/julia",
   "name": "julia",
   "version": "1.7.1"
  },
  "orig_nbformat": 4,
  "vscode": {
   "interpreter": {
    "hash": "36cf16204b8548560b1c020c4e8fb5b57f0e4c58016f52f2d4be01e192833930"
   }
  }
 },
 "nbformat": 4,
 "nbformat_minor": 2
}
