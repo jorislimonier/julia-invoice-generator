{
 "cells": [
  {
   "cell_type": "code",
   "execution_count": 1,
   "metadata": {},
   "outputs": [
    {
     "data": {
      "text/html": [
       "<div class=\"data-frame\"><p>1 rows × 7 columns (omitted printing of 2 columns)</p><table class=\"data-frame\"><thead><tr><th></th><th>customer_id</th><th>name</th><th>address</th><th>address_complement</th><th>post_code</th></tr><tr><th></th><th title=\"Int64\">Int64</th><th title=\"InlineStrings.String31\">String31</th><th title=\"InlineStrings.String15\">String15</th><th title=\"InlineStrings.String15\">String15</th><th title=\"InlineStrings.String15\">String15</th></tr></thead><tbody><tr><th>1</th><td>1</td><td>MANNING PUBLICATIONS</td><td>20 Baldwin Rd</td><td>P O Box 761</td><td>NY 11964</td></tr></tbody></table></div>"
      ],
      "text/latex": [
       "\\begin{tabular}{r|cccccc}\n",
       "\t& customer\\_id & name & address & address\\_complement & post\\_code & \\\\\n",
       "\t\\hline\n",
       "\t& Int64 & String31 & String15 & String15 & String15 & \\\\\n",
       "\t\\hline\n",
       "\t1 & 1 & MANNING PUBLICATIONS & 20 Baldwin Rd & P O Box 761 & NY 11964 & $\\dots$ \\\\\n",
       "\\end{tabular}\n"
      ],
      "text/plain": [
       "\u001b[1m1×7 DataFrame\u001b[0m\n",
       "\u001b[1m Row \u001b[0m│\u001b[1m customer_id \u001b[0m\u001b[1m name                 \u001b[0m\u001b[1m address       \u001b[0m\u001b[1m address_complement \u001b[0m\u001b[1m p\u001b[0m ⋯\n",
       "\u001b[1m     \u001b[0m│\u001b[90m Int64       \u001b[0m\u001b[90m String31             \u001b[0m\u001b[90m String15      \u001b[0m\u001b[90m String15           \u001b[0m\u001b[90m S\u001b[0m ⋯\n",
       "─────┼──────────────────────────────────────────────────────────────────────────\n",
       "   1 │           1  MANNING PUBLICATIONS  20 Baldwin Rd  P O Box 761         N ⋯\n",
       "\u001b[36m                                                               3 columns omitted\u001b[0m"
      ]
     },
     "metadata": {},
     "output_type": "display_data"
    },
    {
     "data": {
      "text/html": [
       "<div class=\"data-frame\"><p>5 rows × 4 columns</p><table class=\"data-frame\"><thead><tr><th></th><th>product_id</th><th>name</th><th>quantity</th><th>unit_cost</th></tr><tr><th></th><th title=\"Int64\">Int64</th><th title=\"InlineStrings.String31\">String31</th><th title=\"Int64\">Int64</th><th title=\"Float64\">Float64</th></tr></thead><tbody><tr><th>1</th><td>1</td><td>Mentoring hours February</td><td>6</td><td>45.0</td></tr><tr><th>2</th><td>2</td><td>Mentoring hours March</td><td>5</td><td>45.0</td></tr><tr><th>3</th><td>3</td><td>Mentoring hours April</td><td>1</td><td>45.0</td></tr><tr><th>4</th><td>4</td><td>Mentoring hours May</td><td>1</td><td>45.0</td></tr><tr><th>5</th><td>5</td><td>Mentoring hours June</td><td>2</td><td>45.0</td></tr></tbody></table></div>"
      ],
      "text/latex": [
       "\\begin{tabular}{r|cccc}\n",
       "\t& product\\_id & name & quantity & unit\\_cost\\\\\n",
       "\t\\hline\n",
       "\t& Int64 & String31 & Int64 & Float64\\\\\n",
       "\t\\hline\n",
       "\t1 & 1 & Mentoring hours February & 6 & 45.0 \\\\\n",
       "\t2 & 2 & Mentoring hours March & 5 & 45.0 \\\\\n",
       "\t3 & 3 & Mentoring hours April & 1 & 45.0 \\\\\n",
       "\t4 & 4 & Mentoring hours May & 1 & 45.0 \\\\\n",
       "\t5 & 5 & Mentoring hours June & 2 & 45.0 \\\\\n",
       "\\end{tabular}\n"
      ],
      "text/plain": [
       "\u001b[1m5×4 DataFrame\u001b[0m\n",
       "\u001b[1m Row \u001b[0m│\u001b[1m product_id \u001b[0m\u001b[1m name                     \u001b[0m\u001b[1m quantity \u001b[0m\u001b[1m unit_cost \u001b[0m\n",
       "\u001b[1m     \u001b[0m│\u001b[90m Int64      \u001b[0m\u001b[90m String31                 \u001b[0m\u001b[90m Int64    \u001b[0m\u001b[90m Float64   \u001b[0m\n",
       "─────┼───────────────────────────────────────────────────────────\n",
       "   1 │          1  Mentoring hours February         6       45.0\n",
       "   2 │          2  Mentoring hours March            5       45.0\n",
       "   3 │          3  Mentoring hours April            1       45.0\n",
       "   4 │          4  Mentoring hours May              1       45.0\n",
       "   5 │          5  Mentoring hours June             2       45.0"
      ]
     },
     "metadata": {},
     "output_type": "display_data"
    },
    {
     "data": {
      "text/html": [
       "<div class=\"data-frame\"><p>2 rows × 5 columns</p><table class=\"data-frame\"><thead><tr><th></th><th>invoice_id</th><th>date</th><th>customer_id</th><th>currency</th><th>products_id</th></tr><tr><th></th><th title=\"Int64\">Int64</th><th title=\"InlineStrings.String15\">String15</th><th title=\"Int64\">Int64</th><th title=\"InlineStrings.String3\">String3</th><th title=\"InlineStrings.String15\">String15</th></tr></thead><tbody><tr><th>1</th><td>1</td><td>2022/05/01</td><td>1</td><td>USD</td><td>[1, 2, 3]</td></tr><tr><th>2</th><td>2</td><td>2022/08/01</td><td>1</td><td>USD</td><td>[4, 5]</td></tr></tbody></table></div>"
      ],
      "text/latex": [
       "\\begin{tabular}{r|ccccc}\n",
       "\t& invoice\\_id & date & customer\\_id & currency & products\\_id\\\\\n",
       "\t\\hline\n",
       "\t& Int64 & String15 & Int64 & String3 & String15\\\\\n",
       "\t\\hline\n",
       "\t1 & 1 & 2022/05/01 & 1 & USD & [1, 2, 3] \\\\\n",
       "\t2 & 2 & 2022/08/01 & 1 & USD & [4, 5] \\\\\n",
       "\\end{tabular}\n"
      ],
      "text/plain": [
       "\u001b[1m2×5 DataFrame\u001b[0m\n",
       "\u001b[1m Row \u001b[0m│\u001b[1m invoice_id \u001b[0m\u001b[1m date       \u001b[0m\u001b[1m customer_id \u001b[0m\u001b[1m currency \u001b[0m\u001b[1m products_id \u001b[0m\n",
       "\u001b[1m     \u001b[0m│\u001b[90m Int64      \u001b[0m\u001b[90m String15   \u001b[0m\u001b[90m Int64       \u001b[0m\u001b[90m String3  \u001b[0m\u001b[90m String15    \u001b[0m\n",
       "─────┼────────────────────────────────────────────────────────────\n",
       "   1 │          1  2022/05/01            1  USD       [1, 2, 3]\n",
       "   2 │          2  2022/08/01            1  USD       [4, 5]"
      ]
     },
     "metadata": {},
     "output_type": "display_data"
    }
   ],
   "source": [
    "include(\"src/api.jl\")\n",
    "include(\"src/data.jl\")\n",
    "\n",
    "inv = api.Invoice()\n",
    "\n",
    "display(data.customers)\n",
    "display(data.products)\n",
    "display(data.orders)"
   ]
  },
  {
   "cell_type": "code",
   "execution_count": 3,
   "metadata": {},
   "outputs": [
    {
     "ename": "MethodError",
     "evalue": "MethodError: no method matching get_invoice_info(::Int64)\nClosest candidates are:\n  get_invoice_info(!Matched::DataFrames.DataFrameRow) at ~/Documents/projects/invoice-generator/src/api.jl:18",
     "output_type": "error",
     "traceback": [
      "MethodError: no method matching get_invoice_info(::Int64)\n",
      "Closest candidates are:\n",
      "  get_invoice_info(!Matched::DataFrames.DataFrameRow) at ~/Documents/projects/invoice-generator/src/api.jl:18\n",
      "\n",
      "Stacktrace:\n",
      " [1] top-level scope\n",
      "   @ ~/Documents/projects/invoice-generator/app.ipynb:1"
     ]
    }
   ],
   "source": [
    "api.get_invoice_info()"
   ]
  }
 ],
 "metadata": {
  "kernelspec": {
   "display_name": "Julia 1.7.1",
   "language": "julia",
   "name": "julia-1.7"
  },
  "language_info": {
   "file_extension": ".jl",
   "mimetype": "application/julia",
   "name": "julia",
   "version": "1.7.1"
  },
  "orig_nbformat": 4,
  "vscode": {
   "interpreter": {
    "hash": "36cf16204b8548560b1c020c4e8fb5b57f0e4c58016f52f2d4be01e192833930"
   }
  }
 },
 "nbformat": 4,
 "nbformat_minor": 2
}
